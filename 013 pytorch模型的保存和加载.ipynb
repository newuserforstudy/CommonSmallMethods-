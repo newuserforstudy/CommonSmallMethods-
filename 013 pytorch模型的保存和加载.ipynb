{
 "cells": [
  {
   "cell_type": "markdown",
   "metadata": {},
   "source": [
    "### 1  加载/保存状态字典 state_dict\n",
    "torch.save(model.state_dict(), PATH)\n",
    "\n",
    "model = TheModelClass(*args, **kwargs)   \n",
    "model.load_state_dict(torch.load(PATH))  \n",
    "model.eval() "
   ]
  },
  {
   "cell_type": "markdown",
   "metadata": {},
   "source": [
    "### 2 加载和保存一个通用的检查点(Checkpoint)\n",
    "torch.save({  \n",
    "            'epoch': epoch,  \n",
    "            'model_state_dict': model.state_dict(),  \n",
    "            'optimizer_state_dict': optimizer.state_dict(),  \n",
    "            'loss': loss,  \n",
    "            ...  \n",
    "            }, PATH)    \n",
    "            \n",
    "==============================================================    \n",
    "model = TheModelClass(*args, **kwargs)\n",
    "optimizer = TheOptimizerClass(*args, **kwargs)  \n",
    " \n",
    "checkpoint = torch.load(PATH)  \n",
    "model.load_state_dict(checkpoint['model_state_dict'])  \n",
    "optimizer.load_state_dict(checkpoint['optimizer_state_dict'])  \n",
    "epoch = checkpoint['epoch']  \n",
    "loss = checkpoint['loss']  \n",
    " \n",
    "model.eval()\n"
   ]
  },
  {
   "cell_type": "markdown",
   "metadata": {},
   "source": [
    "### 3 常用的是保存checkpoint\n",
    "方式三：保存用于继续训练的checkpoint或者多个模型  \n",
    "保存  \n",
    "torch.save({ \n",
    "            'epoch': epoch,  \n",
    "            'model_state_dict': model.state_dict(),  \n",
    "            ...  \n",
    "            }, PATH)  \n",
    "加载  \n",
    "checkpoint = torch.load(PATH)    \n",
    "start_epoch=checkpoint['epoch']   \n",
    "model.load_state_dict(checkpoint['model_state_dict'])   \n",
    "测试时   \n",
    "model.eval()  \n",
    "\n"
   ]
  },
  {
   "cell_type": "code",
   "execution_count": null,
   "metadata": {},
   "outputs": [],
   "source": []
  }
 ],
 "metadata": {
  "kernelspec": {
   "display_name": "Python 3",
   "language": "python",
   "name": "python3"
  },
  "language_info": {
   "codemirror_mode": {
    "name": "ipython",
    "version": 3
   },
   "file_extension": ".py",
   "mimetype": "text/x-python",
   "name": "python",
   "nbconvert_exporter": "python",
   "pygments_lexer": "ipython3",
   "version": "3.7.2"
  }
 },
 "nbformat": 4,
 "nbformat_minor": 2
}
